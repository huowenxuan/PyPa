{
 "cells": [
  {
   "cell_type": "code",
   "execution_count": 12,
   "metadata": {},
   "outputs": [
    {
     "data": {
      "image/png": "[encoded data removed]",
      "text/plain": [
       "<matplotlib.figure.Figure at 0x10a28f4a8>"
      ]
     },
     "metadata": {},
     "output_type": "display_data"
    }
   ],
   "source": [
    "import requests\n",
    "import os\n",
    "import pandas as pd\n",
    "import matplotlib.pyplot as plt\n",
    "plt.style.use('ggplot')\n",
    "%matplotlib inline\n",
    "import numpy as np\n",
    "\n",
    "# 1. 获取\n",
    "def run1():\n",
    "    r = requests.get(r'https://api.github.com/users/huowenxuan/starred')\n",
    "    print(r.json())\n",
    "\n",
    "# 2. 检查\n",
    "# 2.1 IPython\n",
    "# pip3 install ipython\n",
    "# pip3 install jupyter\n",
    "# jupyter notebook 从网页打开jupyter，右边new弹出下拉，选择Python3即可进入命令行运行\n",
    "\n",
    "def get_iris():\n",
    "    PATH = r'./outputs/iris/'\n",
    "    filename = 'iris.data'\n",
    "    # r = requests.get('https://archive.ics.uci.edu/ml/machine-learning-databases/iris/iris.data') # 已经保存在了./source_data/iris.data中，是一个CSV文件\n",
    "    # with open(PATH + filename, 'w') as f:\n",
    "    #     f.write(r.text)\n",
    "    # pd解析文件，names设定列名，如果源文件有标题行，pandas会自动解析这一行\n",
    "    # pd操作的基本单位是表格形式的数据列和行，数据列成为系列Series，表格成为数据框DataFrame\n",
    "    return pd.read_csv(PATH + filename, names=['花萼长度', '花萼宽度', '花瓣长度', '花瓣宽度', '类别'])\n",
    "\n",
    "# 2.2 pandas\n",
    "def run2():\n",
    "    df = get_iris()\n",
    "    # 转换为表格\n",
    "    df.head()\n",
    "    # 通过列名获取这一行\n",
    "    df['花萼长度']\n",
    "    # .ix[row, column]前几行和前几列\n",
    "    df.ix[:3, :2]\n",
    "    # 条件查询，获取具备条件的列\n",
    "    df.ix[:3, [x for x in df.columns if '宽度' in x]]\n",
    "    # unique将获取到的值保存在set中，并返回set。也就是相同的值只选择其中一个\n",
    "    df['类别'].unique()\n",
    "    # 获取只包含Iris-virginica类的数据\n",
    "    data = df[df['类别'] == 'Iris-virginica']\n",
    "    # 获取结果的数量\n",
    "    data.count()\n",
    "    # 上面的数据保留了原始的索引，将这些数据保存到一个新的数据并重置索引\n",
    "    data = data.reset_index(drop=True)\n",
    "    # 添加条件\n",
    "    data = df[(df['类别'] == 'Iris-virginica') & (df['花瓣宽度'] < 2.2)]\n",
    "    # 描述性统计数据\n",
    "    data = df.describe()\n",
    "    # 传入自定义的百分比，获取更详细的信息\n",
    "    data = df.describe(percentiles=[.20, .40, .80, .90, .95])\n",
    "    # 查看特征之间的相关性。参数method=\"spearman\" / \"kendall\"？ 不懂\n",
    "    data = df.corr()\n",
    "\n",
    "# 2.3 可视化\n",
    "def run3():\n",
    "    df = get_iris()\n",
    "    fig, ax = plt.subplots(figsize=(6,4))\n",
    "    ax.hist(df['花瓣宽度'], color='black')\n",
    "    ax.set_ylabel('Count', fontsize=12)\n",
    "    ax.set_xlabel('Width', fontsize=12)\n",
    "    plt.title('Width', fontsize=14, y=1.01)\n",
    "\n",
    "run3()"
   ]
  },
  {
   "cell_type": "code",
   "execution_count": 5,
   "metadata": {},
   "outputs": [],
   "source": []
  },
  {
   "cell_type": "code",
   "execution_count": 2,
   "metadata": {},
   "outputs": [
    {
     "name": "stdout",
     "output_type": "stream",
     "text": [
      "s\n"
     ]
    }
   ],
   "source": []
  },
  {
   "cell_type": "code",
   "execution_count": null,
   "metadata": {},
   "outputs": [],
   "source": []
  }
 ],
 "metadata": {
  "kernelspec": {
   "display_name": "Python 3",
   "language": "python",
   "name": "python3"
  },
  "language_info": {
   "codemirror_mode": {
    "name": "ipython",
    "version": 3
   },
   "file_extension": ".py",
   "mimetype": "text/x-python",
   "name": "python",
   "nbconvert_exporter": "python",
   "pygments_lexer": "ipython3",
   "version": "3.6.3"
  }
 },
 "nbformat": 4,
 "nbformat_minor": 2
}
